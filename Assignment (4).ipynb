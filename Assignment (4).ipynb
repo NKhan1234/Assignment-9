{
 "cells": [
  {
   "cell_type": "code",
   "execution_count": 1,
   "id": "a0829baa-a154-4b84-b177-4c985ca82d8b",
   "metadata": {},
   "outputs": [],
   "source": [
    "# Q1. What is Abstraction in OOps? Explain with an example."
   ]
  },
  {
   "cell_type": "code",
   "execution_count": 2,
   "id": "95f3971f-44f2-407f-9b35-6cccea310088",
   "metadata": {},
   "outputs": [],
   "source": [
    "# A1.\n",
    "# Abstraction in python is defined as a process of handling complexity by hiding unnecessary information from the user. \n",
    "# This is one of the core concepts of object-oriented programming (OOP) languages."
   ]
  },
  {
   "cell_type": "code",
   "execution_count": 3,
   "id": "289f7338-4806-4419-ba6a-f6c0575ec36b",
   "metadata": {},
   "outputs": [
    {
     "name": "stdout",
     "output_type": "stream",
     "text": [
      "The mileage is 30kmph\n",
      "The mileage is 20kmph\n",
      "The mileage is 25kmph \n"
     ]
    }
   ],
   "source": [
    "from abc import ABC, abstractmethod   \n",
    "\n",
    "class Car(ABC):   \n",
    "    def mileage(self):   \n",
    "        pass  \n",
    "  \n",
    "class tesla(Car):   \n",
    "    def mileage(self):   \n",
    "        print(\"The mileage is 30kmph\")   \n",
    "\n",
    "class suzuki(Car):   \n",
    "    def mileage(self):   \n",
    "        print(\"The mileage is 25kmph \")   \n",
    "\n",
    "class dzire(Car):\n",
    "    def mileage(self):\n",
    "        print(\"The mileage is 20kmph\")\n",
    "          \n",
    "t = tesla()   \n",
    "t.mileage()   \n",
    "  \n",
    "d = dzire()   \n",
    "d.mileage()   \n",
    "  \n",
    "s = suzuki()   \n",
    "s.mileage()   \n"
   ]
  },
  {
   "cell_type": "code",
   "execution_count": 4,
   "id": "8eb0ddee-b212-4664-934f-7850f3ab3200",
   "metadata": {},
   "outputs": [],
   "source": [
    "# Q2. Differentiate between Abstraction and Encapsulation. Explain with an example.\n",
    "# A2. Abstraction is the method of hiding the unwanted information. Whereas encapsulation is a method to hide the data in a single entity \n",
    "#     or unit along with a method to protect information from outside"
   ]
  },
  {
   "cell_type": "code",
   "execution_count": 7,
   "id": "77109b71-4bda-4604-b5cc-9e31bd1f76d8",
   "metadata": {},
   "outputs": [
    {
     "data": {
      "text/plain": [
       "16"
      ]
     },
     "execution_count": 7,
     "metadata": {},
     "output_type": "execute_result"
    }
   ],
   "source": [
    "# Abstraction\n",
    "from abc import ABC, abstractmethod \n",
    "import logging\n",
    "class Side(ABC):\n",
    "    def area(self):\n",
    "        pass\n",
    "logging.basicConfig(filename = \"test.txt\", level = logging.DEBUG, format = '%(asctime)s %(message)s')    \n",
    "class square(Side):\n",
    "    def area(self,side):\n",
    "        logging.info(\"This is the area of square {}\".format(side))\n",
    "        return side*side\n",
    "        \n",
    "\n",
    "class circle(Side):\n",
    "    def area(self,radius):\n",
    "        logging.info(\"This is the area of circle {}\".format(radius))\n",
    "        return 3.14*(radius*radius)\n",
    "    \n",
    "a = square()\n",
    "a.area(4)\n"
   ]
  },
  {
   "cell_type": "code",
   "execution_count": 8,
   "id": "50068ecd-97c3-4916-bbd3-7f776d91d819",
   "metadata": {},
   "outputs": [
    {
     "data": {
      "text/plain": [
       "28.26"
      ]
     },
     "execution_count": 8,
     "metadata": {},
     "output_type": "execute_result"
    }
   ],
   "source": [
    "b = circle()\n",
    "b.area(3)"
   ]
  },
  {
   "cell_type": "code",
   "execution_count": 10,
   "id": "8eca5c82-c699-4f19-9b81-9ac50db5be20",
   "metadata": {},
   "outputs": [],
   "source": [
    "#Encapsulation\n",
    "class employee:\n",
    "    def __init__(self,name,salary,id):\n",
    "        self.name = name\n",
    "        self.__salary = salary      #private\n",
    "        self._id= id                #protective\n",
    "        \n",
    "    def show(self):\n",
    "        print(f\"Name :\",{self.name}, \"Salary :\", {self.salary}, \"Id :\", {self.id})"
   ]
  },
  {
   "cell_type": "code",
   "execution_count": 11,
   "id": "562ca793-9b34-44e4-b92d-5999084c7d5e",
   "metadata": {},
   "outputs": [
    {
     "data": {
      "text/plain": [
       "'Nad'"
      ]
     },
     "execution_count": 11,
     "metadata": {},
     "output_type": "execute_result"
    }
   ],
   "source": [
    "o = employee(\"Nad\", 12000, 231)\n",
    "o.name"
   ]
  },
  {
   "cell_type": "code",
   "execution_count": 12,
   "id": "6a2d58a3-9688-4950-aa3d-c624c94dab12",
   "metadata": {},
   "outputs": [
    {
     "ename": "AttributeError",
     "evalue": "'employee' object has no attribute 'salary'",
     "output_type": "error",
     "traceback": [
      "\u001b[0;31m---------------------------------------------------------------------------\u001b[0m",
      "\u001b[0;31mAttributeError\u001b[0m                            Traceback (most recent call last)",
      "Cell \u001b[0;32mIn[12], line 1\u001b[0m\n\u001b[0;32m----> 1\u001b[0m \u001b[43mo\u001b[49m\u001b[38;5;241;43m.\u001b[39;49m\u001b[43msalary\u001b[49m\n",
      "\u001b[0;31mAttributeError\u001b[0m: 'employee' object has no attribute 'salary'"
     ]
    }
   ],
   "source": [
    "o.salary"
   ]
  },
  {
   "cell_type": "code",
   "execution_count": 13,
   "id": "1cf690be-eab5-4efe-9bf3-fa3a6477b3fc",
   "metadata": {},
   "outputs": [
    {
     "data": {
      "text/plain": [
       "12000"
      ]
     },
     "execution_count": 13,
     "metadata": {},
     "output_type": "execute_result"
    }
   ],
   "source": [
    "o._employee__salary"
   ]
  },
  {
   "cell_type": "code",
   "execution_count": 14,
   "id": "92357886-cf62-446e-a53a-0b34a8dde172",
   "metadata": {},
   "outputs": [
    {
     "ename": "AttributeError",
     "evalue": "'employee' object has no attribute 'id'",
     "output_type": "error",
     "traceback": [
      "\u001b[0;31m---------------------------------------------------------------------------\u001b[0m",
      "\u001b[0;31mAttributeError\u001b[0m                            Traceback (most recent call last)",
      "Cell \u001b[0;32mIn[14], line 1\u001b[0m\n\u001b[0;32m----> 1\u001b[0m \u001b[43mo\u001b[49m\u001b[38;5;241;43m.\u001b[39;49m\u001b[43mid\u001b[49m\n",
      "\u001b[0;31mAttributeError\u001b[0m: 'employee' object has no attribute 'id'"
     ]
    }
   ],
   "source": [
    "o.id"
   ]
  },
  {
   "cell_type": "code",
   "execution_count": 21,
   "id": "fce2f801-8dbc-4f11-a49b-ac1679641fe6",
   "metadata": {},
   "outputs": [
    {
     "data": {
      "text/plain": [
       "231"
      ]
     },
     "execution_count": 21,
     "metadata": {},
     "output_type": "execute_result"
    }
   ],
   "source": [
    "o._id"
   ]
  },
  {
   "cell_type": "code",
   "execution_count": 22,
   "id": "bfad8ef2-c895-4c02-96bb-3901ac752b3c",
   "metadata": {},
   "outputs": [],
   "source": [
    "#Q3. What is abc module in python? Why is it used?"
   ]
  },
  {
   "cell_type": "code",
   "execution_count": null,
   "id": "3baf0062-85eb-4c5c-983d-e4a6ccaecfa7",
   "metadata": {},
   "outputs": [],
   "source": [
    "# A3.The 'abc' module in Python library provides the infrastructure for defining custom abstract base classes. \n",
    "#     'abc' works by marking methods of the base class as abstract. This is done by @absttractmethod decorator."
   ]
  },
  {
   "cell_type": "code",
   "execution_count": null,
   "id": "091222b5-12ea-4e0c-a912-7f2bba030e2e",
   "metadata": {},
   "outputs": [],
   "source": [
    "# Q4. How can we achieve data abstraction?\n",
    "# A4.Data Abstraction in Python can be achieved through creating abstract classes and inheriting them later."
   ]
  },
  {
   "cell_type": "code",
   "execution_count": null,
   "id": "9fa18561-c078-4456-b3db-a0f668563688",
   "metadata": {},
   "outputs": [],
   "source": [
    "# Q5. Can we create an instance of an abstract class? Explain your answer.\n",
    "A5."
   ]
  }
 ],
 "metadata": {
  "kernelspec": {
   "display_name": "Python 3 (ipykernel)",
   "language": "python",
   "name": "python3"
  },
  "language_info": {
   "codemirror_mode": {
    "name": "ipython",
    "version": 3
   },
   "file_extension": ".py",
   "mimetype": "text/x-python",
   "name": "python",
   "nbconvert_exporter": "python",
   "pygments_lexer": "ipython3",
   "version": "3.10.8"
  }
 },
 "nbformat": 4,
 "nbformat_minor": 5
}
